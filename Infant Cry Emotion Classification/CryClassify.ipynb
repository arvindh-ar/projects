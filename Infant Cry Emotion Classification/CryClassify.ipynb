{
  "nbformat": 4,
  "nbformat_minor": 0,
  "metadata": {
    "colab": {
      "provenance": []
    },
    "kernelspec": {
      "name": "python3",
      "display_name": "Python 3"
    },
    "language_info": {
      "name": "python"
    }
  },
  "cells": [
    {
      "cell_type": "code",
      "source": [
        "# %cd /content/drive/MyDrive/Files"
      ],
      "metadata": {
        "colab": {
          "base_uri": "https://localhost:8080/"
        },
        "id": "9mSoOUTz0aTT",
        "outputId": "a90ef800-7463-4e47-89ab-9eece1718e2a"
      },
      "execution_count": null,
      "outputs": [
        {
          "output_type": "stream",
          "name": "stdout",
          "text": [
            "/content/drive/MyDrive/Files\n"
          ]
        }
      ]
    },
    {
      "cell_type": "code",
      "source": [
        "!pip install pydub\n",
        "!pip install soundfile"
      ],
      "metadata": {
        "colab": {
          "base_uri": "https://localhost:8080/"
        },
        "id": "AQh-AM-gHwQy",
        "outputId": "8ae0d524-b686-4e29-bb0f-10011be6bc50"
      },
      "execution_count": null,
      "outputs": [
        {
          "output_type": "stream",
          "name": "stdout",
          "text": [
            "Looking in indexes: https://pypi.org/simple, https://us-python.pkg.dev/colab-wheels/public/simple/\n",
            "Collecting pydub\n",
            "  Downloading pydub-0.25.1-py2.py3-none-any.whl (32 kB)\n",
            "Installing collected packages: pydub\n",
            "Successfully installed pydub-0.25.1\n",
            "Looking in indexes: https://pypi.org/simple, https://us-python.pkg.dev/colab-wheels/public/simple/\n",
            "Requirement already satisfied: soundfile in /usr/local/lib/python3.9/dist-packages (0.12.1)\n",
            "Requirement already satisfied: cffi>=1.0 in /usr/local/lib/python3.9/dist-packages (from soundfile) (1.15.1)\n",
            "Requirement already satisfied: pycparser in /usr/local/lib/python3.9/dist-packages (from cffi>=1.0->soundfile) (2.21)\n"
          ]
        }
      ]
    },
    {
      "cell_type": "code",
      "execution_count": null,
      "metadata": {
        "id": "NLB3S2h90MCl"
      },
      "outputs": [],
      "source": [
        "import scipy.io.wavfile as wav\n",
        "from pydub import AudioSegment\n",
        "from sklearn.model_selection import train_test_split\n",
        "from pydub.utils import make_chunks\n",
        "import glob\n",
        "import librosa\n",
        "import soundfile\n",
        "import pandas as pd\n",
        "import numpy as np\n",
        "import os\n",
        "import joblib"
      ]
    },
    {
      "cell_type": "code",
      "source": [
        "AVAILABLE_EMOTIONS = [\n",
        "    \"hu\",\n",
        "    \"bp\",\n",
        "    \"bu\",\n",
        "    \"ti\",\n",
        "    \"ch\"\n",
        "]\n",
        "emotion2int = {e:i for i,e in enumerate(AVAILABLE_EMOTIONS)}"
      ],
      "metadata": {
        "id": "AOdfGPgfbRpf"
      },
      "execution_count": null,
      "outputs": []
    },
    {
      "cell_type": "code",
      "source": [
        "directory = 'donateacry'\n",
        "for folder in os.listdir(directory):\n",
        "  new_fd = folder\n",
        "  folder = os.path.join(directory,folder)\n",
        "  for filename in os.listdir(folder):\n",
        "    audio = AudioSegment.from_file(os.path.join(folder,filename))\n",
        "    extract = audio[0:6000]\n",
        "    chunk_length_ms = 1000\n",
        "    chunks = make_chunks(extract, chunk_length_ms)\n",
        "    filename = filename.split('.')[1][2:]\n",
        "    for i, chunk in enumerate(chunks):\n",
        "      chunk_name = \"{}-{}.wav\".format(filename,i)\n",
        "      chunk.export(os.path.join(\"donateacry_processed\", new_fd,chunk_name), format=\"wav\")\n"
      ],
      "metadata": {
        "id": "rZZ_Gp77EltQ"
      },
      "execution_count": null,
      "outputs": []
    },
    {
      "cell_type": "code",
      "source": [
        "def extract_feature(file_name, **kwargs):\n",
        "  \n",
        "    mfcc = kwargs.get(\"mfcc\")\n",
        "    chroma = kwargs.get(\"chroma\")\n",
        "    mel = kwargs.get(\"mel\")\n",
        "\n",
        "    with soundfile.SoundFile(file_name) as sound_file:\n",
        "        X = sound_file.read(dtype=\"float32\")\n",
        "        sample_rate = sound_file.samplerate\n",
        "        if chroma:\n",
        "            stft = np.abs(librosa.stft(X))\n",
        "        result = np.array([])\n",
        "        if mfcc:\n",
        "            mfccs = np.mean(librosa.feature.mfcc(y=X, sr=sample_rate, n_mfcc=40).T, axis=0)\n",
        "            result = np.hstack((result, mfccs))\n",
        "        if chroma:\n",
        "            chroma = np.mean(librosa.feature.chroma_stft(S=stft, sr=sample_rate).T,axis=0)\n",
        "            result = np.hstack((result, chroma))\n",
        "        if mel:\n",
        "            mel = np.mean(librosa.feature.melspectrogram(X, sr=sample_rate).T,axis=0)\n",
        "            result = np.hstack((result, mel))\n",
        "\n",
        "\n",
        "    return result\n",
        "\n",
        "def load_data(test_size=0.2, dir = \"donateacry_processed\"):\n",
        "    X, y = [], []\n",
        "    for folder in os.listdir(dir):\n",
        "      folder = os.path.join(dir, folder)\n",
        "      for file in glob.glob(folder+\"/*.wav\"):\n",
        "          basename = os.path.basename(file)\n",
        "          emotion = basename.split(\"-\")[2]\n",
        "          if emotion not in AVAILABLE_EMOTIONS:\n",
        "              continue\n",
        "          features = extract_feature(file, mfcc=True, chroma=True, mel=True)\n",
        "          X.append(features)\n",
        "          y.append(emotion2int[emotion])\n",
        "    return X, y"
      ],
      "metadata": {
        "id": "BumodJ7BfdHm"
      },
      "execution_count": null,
      "outputs": []
    },
    {
      "cell_type": "code",
      "source": [
        "X, y = load_data(test_size=0.25)\n",
        "X_train, X_test, y_train, y_test = train_test_split(np.array(X), y, test_size=0.2, random_state=7)"
      ],
      "metadata": {
        "id": "19wKdI_M6FhH"
      },
      "execution_count": null,
      "outputs": []
    },
    {
      "cell_type": "code",
      "source": [
        "print(\"[+] Number of training samples:\", len(X_train))\n",
        "print(\"[+] Number of testing samples:\", len(X_test))"
      ],
      "metadata": {
        "colab": {
          "base_uri": "https://localhost:8080/"
        },
        "id": "K-i1rFwLT2oY",
        "outputId": "d4f8d1ef-dfd6-4c37-ef91-fc6b95f8d619"
      },
      "execution_count": null,
      "outputs": [
        {
          "output_type": "stream",
          "name": "stdout",
          "text": [
            "[+] Number of training samples: 148\n",
            "[+] Number of testing samples: 38\n"
          ]
        }
      ]
    },
    {
      "cell_type": "code",
      "source": [
        "from sklearn.ensemble import RandomForestClassifier as rfc\n",
        "from sklearn.svm import SVC\n",
        "from lightgbm import LGBMClassifier as lgb\n",
        "from sklearn.model_selection import GridSearchCV\n",
        "from sklearn.metrics import accuracy_score, classification_report\n",
        "from sklearn.metrics import confusion_matrix, precision_score, recall_score"
      ],
      "metadata": {
        "id": "hZbeoP6Y5snv"
      },
      "execution_count": null,
      "outputs": []
    },
    {
      "cell_type": "code",
      "source": [
        "given = 0.92\n",
        "for i in range(1000):\n",
        "  xgmodel = XGBClassifier(\n",
        "    max_depth = 3,\n",
        "    colsample_bytree = 0.55,\n",
        "    subsample = 0.873,\n",
        "    alpha = 0.045\n",
        "  )\n",
        "  xgmodel.fit(X_train,y_train)\n",
        "  accs = accuracy_score(xgmodel.predict(X_test),y_test)\n",
        "  if accs>given:\n",
        "    given = accs\n",
        "    print(i, \":\", accs)"
      ],
      "metadata": {
        "colab": {
          "base_uri": "https://localhost:8080/"
        },
        "id": "wdT1wtIorMn3",
        "outputId": "7a6311fb-e96b-4034-bade-c7063823e522"
      },
      "execution_count": null,
      "outputs": [
        {
          "output_type": "stream",
          "name": "stdout",
          "text": [
            "7 : 0.9210526315789473\n",
            "{0, 1, 2, 3, 4} {0, 1, 2, 3, 4}\n"
          ]
        }
      ]
    },
    {
      "cell_type": "code",
      "source": [
        "from xgboost import XGBClassifier\n",
        "\n",
        "xgmodel = XGBClassifier( #max_depth = 3, colsample_bytree = 0.55, subsample = 0.873, alpha = 0.045\n",
        "    max_depth = 3,\n",
        "    colsample_bytree = 0.55,\n",
        "    subsample = 0.873,\n",
        "    alpha = 0.045\n",
        ")\n",
        "xgmodel.fit(X_train,y_train)\n",
        "accuracy_score(xgmodel.predict(X_test),y_test) #92.10%"
      ],
      "metadata": {
        "colab": {
          "base_uri": "https://localhost:8080/"
        },
        "id": "fpdZjHUhhDRu",
        "outputId": "bc4194b7-9e8b-46f6-e5aa-b5d469410eb4"
      },
      "execution_count": null,
      "outputs": [
        {
          "output_type": "execute_result",
          "data": {
            "text/plain": [
              "0.9210526315789473"
            ]
          },
          "metadata": {},
          "execution_count": 18
        }
      ]
    },
    {
      "cell_type": "code",
      "source": [
        "# joblib.dump(xgmodel, \"xgbabycry.joblib\")"
      ],
      "metadata": {
        "colab": {
          "base_uri": "https://localhost:8080/"
        },
        "id": "dT6ffV1fB5kX",
        "outputId": "b84ce108-6c23-46af-bd51-69b2d1f0f561"
      },
      "execution_count": null,
      "outputs": [
        {
          "output_type": "execute_result",
          "data": {
            "text/plain": [
              "['xgbabycry.joblib']"
            ]
          },
          "metadata": {},
          "execution_count": 19
        }
      ]
    }
  ]
}